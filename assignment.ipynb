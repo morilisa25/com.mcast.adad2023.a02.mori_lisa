{
 "cells": [
  {
   "cell_type": "markdown",
   "metadata": {},
   "source": [
    "# MCAST IICT ADAD 2024\n",
    "## Assignment 2\n",
    "\n",
    "**Author:** Lisa Mori<br/>\n",
    "**Created:** 10/01/2024"
   ]
  },
  {
   "cell_type": "markdown",
   "metadata": {},
   "source": [
    "## Data Acquisition"
   ]
  }
 ],
 "metadata": {
  "language_info": {
   "name": "python"
  }
 },
 "nbformat": 4,
 "nbformat_minor": 2
}
